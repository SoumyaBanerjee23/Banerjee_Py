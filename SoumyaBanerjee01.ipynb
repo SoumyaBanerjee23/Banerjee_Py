{
  "nbformat": 4,
  "nbformat_minor": 0,
  "metadata": {
    "colab": {
      "provenance": [],
      "include_colab_link": true
    },
    "kernelspec": {
      "name": "python3",
      "display_name": "Python 3"
    },
    "language_info": {
      "name": "python"
    }
  },
  "cells": [
    {
      "cell_type": "markdown",
      "metadata": {
        "id": "view-in-github",
        "colab_type": "text"
      },
      "source": [
        "<a href=\"https://colab.research.google.com/github/SoumyaBanerjee23/Banerjee_Py/blob/main/SoumyaBanerjee01.ipynb\" target=\"_parent\"><img src=\"https://colab.research.google.com/assets/colab-badge.svg\" alt=\"Open In Colab\"/></a>"
      ]
    },
    {
      "cell_type": "markdown",
      "source": [
        "#M1A01"
      ],
      "metadata": {
        "id": "UvbmoJQvXEsR"
      }
    },
    {
      "cell_type": "code",
      "execution_count": null,
      "metadata": {
        "colab": {
          "base_uri": "https://localhost:8080/"
        },
        "id": "VnCZ6FzVHqf5",
        "outputId": "95dbbf20-981d-4e23-d2c1-caab504beaa8"
      },
      "outputs": [
        {
          "output_type": "stream",
          "name": "stdout",
          "text": [
            "Please enter an integer: 15\n",
            "FizzBuzz\n"
          ]
        }
      ],
      "source": [
        "number = int(input(\"Please enter an integer: \"))\n",
        "\n",
        "if number % 3 == 0 and number % 5 == 0:\n",
        "    print(\"FizzBuzz\")\n",
        "elif number % 3 == 0:\n",
        "    print(\"Fizz\")\n",
        "elif number % 5 == 0:\n",
        "    print(\"Buzz\")\n",
        "else:\n",
        "    print(number)\n"
      ]
    },
    {
      "cell_type": "code",
      "source": [
        "i = int(input('Enter a number: '))\n",
        "\n",
        "for i in range(1, 30):\n",
        "    if i % 15 == 0:\n",
        "        print('FizzBuzz')\n",
        "    elif i % 5 == 0:\n",
        "        print('Buzz')\n",
        "    elif i % 3 == 0:\n",
        "        print('Fizz')\n",
        "    else:\n",
        "        print(i)\n"
      ],
      "metadata": {
        "colab": {
          "base_uri": "https://localhost:8080/"
        },
        "id": "eED0RZRRQIur",
        "outputId": "b7f84396-d490-45af-fa66-aa989026044e"
      },
      "execution_count": null,
      "outputs": [
        {
          "output_type": "stream",
          "name": "stdout",
          "text": [
            "Enter a number: 30\n",
            "1\n",
            "2\n",
            "Fizz\n",
            "4\n",
            "Buzz\n",
            "Fizz\n",
            "7\n",
            "8\n",
            "Fizz\n",
            "Buzz\n",
            "11\n",
            "Fizz\n",
            "13\n",
            "14\n",
            "FizzBuzz\n",
            "16\n",
            "17\n",
            "Fizz\n",
            "19\n",
            "Buzz\n",
            "Fizz\n",
            "22\n",
            "23\n",
            "Fizz\n",
            "Buzz\n",
            "26\n",
            "Fizz\n",
            "28\n",
            "29\n"
          ]
        }
      ]
    },
    {
      "cell_type": "markdown",
      "source": [
        "#M1A02\n"
      ],
      "metadata": {
        "id": "cMCfx05BXQwK"
      }
    },
    {
      "cell_type": "code",
      "source": [
        "log_message = input(\"Enter transaction log: \")\n",
        "transactions = log_message.split()  # split log into individual transactions\n",
        "balance = 0\n",
        "\n",
        "for transaction in transactions:\n",
        "    if transaction.startswith('D:'):\n",
        "        balance += int(transaction[2:])  # add deposit amount to balance\n",
        "    elif transaction.startswith('W:'):\n",
        "        balance -= int(transaction[2:])  # subtract withdrawal amount from balance\n",
        "\n",
        "print(balance)\n"
      ],
      "metadata": {
        "colab": {
          "base_uri": "https://localhost:8080/"
        },
        "id": "fLXolWWBQkK3",
        "outputId": "0f34759d-f2cc-4310-a192-79ef3955d97b"
      },
      "execution_count": null,
      "outputs": [
        {
          "output_type": "stream",
          "name": "stdout",
          "text": [
            "Enter transaction log: D:100 W:10\n",
            "90\n"
          ]
        }
      ]
    },
    {
      "cell_type": "markdown",
      "source": [
        "#M1A03\n"
      ],
      "metadata": {
        "id": "YvGX3TsR6U-8"
      }
    },
    {
      "cell_type": "code",
      "source": [
        "num_calls = int(input(\"Enter number of calls: \"))\n",
        "\n",
        "if num_calls <= 100:\n",
        "    bill = 200\n",
        "elif num_calls <= 150:\n",
        "    bill = 200 + 0.6 * (num_calls - 100)\n",
        "elif num_calls <= 200:\n",
        "    bill = 200 + 0.6 * 50 + 0.5 * (num_calls - 150)\n",
        "else:\n",
        "    bill = 200 + 0.6 * 50 + 0.5 * 50 + 0.4 * (num_calls - 200)\n",
        "\n",
        "print(\"Monthly telephone bill: Rs.\", bill)\n"
      ],
      "metadata": {
        "colab": {
          "base_uri": "https://localhost:8080/"
        },
        "id": "OrLveA8eVzKR",
        "outputId": "76c3eb12-8b62-46fa-a91b-539c9bc758a0"
      },
      "execution_count": null,
      "outputs": [
        {
          "output_type": "stream",
          "name": "stdout",
          "text": [
            "Enter number of calls: 300\n",
            "Monthly telephone bill: Rs. 295.0\n"
          ]
        }
      ]
    },
    {
      "cell_type": "markdown",
      "source": [
        "#M1A03\n"
      ],
      "metadata": {
        "id": "DDtyDJhnh4N2"
      }
    },
    {
      "cell_type": "code",
      "source": [
        "def calculate_telephone_bill(num_calls):\n",
        "    if num_calls <= 100:\n",
        "        bill = 200\n",
        "    elif num_calls <= 150:\n",
        "        bill = 200 + 0.60 * (num_calls - 100)\n",
        "    elif num_calls <= 200:\n",
        "        bill = 200 + 0.60 * 50 + 0.50 * (num_calls - 150)\n",
        "    else:\n",
        "        bill = 200 + 0.60 * 50 + 0.50 * 50 + 0.40 * (num_calls - 200)\n",
        "    \n",
        "    return bill\n",
        "\n",
        "num_calls = int(input(\"Enter the number of calls: \"))\n",
        "\n",
        "bill_amount = calculate_telephone_bill(num_calls)\n",
        "\n",
        "print(\"Monthly telephone bill: Rs.\", bill_amount)\n"
      ],
      "metadata": {
        "id": "sgK1acC66YCy",
        "colab": {
          "base_uri": "https://localhost:8080/"
        },
        "outputId": "7bc7858e-68e4-48a5-fa88-d8dc402dd813"
      },
      "execution_count": 1,
      "outputs": [
        {
          "output_type": "stream",
          "name": "stdout",
          "text": [
            "Enter the number of calls: 12\n",
            "Monthly telephone bill: Rs. 200\n"
          ]
        }
      ]
    },
    {
      "cell_type": "code",
      "source": [],
      "metadata": {
        "id": "HkAsT7c78j50"
      },
      "execution_count": null,
      "outputs": []
    }
  ]
}