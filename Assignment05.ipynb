{
  "nbformat": 4,
  "nbformat_minor": 0,
  "metadata": {
    "colab": {
      "provenance": [],
      "authorship_tag": "ABX9TyOjL0fkilKztNc4vmwvkiOE",
      "include_colab_link": true
    },
    "kernelspec": {
      "name": "python3",
      "display_name": "Python 3"
    },
    "language_info": {
      "name": "python"
    }
  },
  "cells": [
    {
      "cell_type": "markdown",
      "metadata": {
        "id": "view-in-github",
        "colab_type": "text"
      },
      "source": [
        "<a href=\"https://colab.research.google.com/github/SoumyaBanerjee23/Banerjee_Py/blob/main/Assignment05.ipynb\" target=\"_parent\"><img src=\"https://colab.research.google.com/assets/colab-badge.svg\" alt=\"Open In Colab\"/></a>"
      ]
    },
    {
      "cell_type": "code",
      "execution_count": 2,
      "metadata": {
        "colab": {
          "base_uri": "https://localhost:8080/"
        },
        "id": "q7I_ORqfisN6",
        "outputId": "2ce9cb78-00c0-4ae9-fd18-33d597efec9a"
      },
      "outputs": [
        {
          "output_type": "stream",
          "name": "stdout",
          "text": [
            "35\n"
          ]
        }
      ],
      "source": [
        "class Point:\n",
        "    def __init__(self, x, y, z):\n",
        "        self.x = x\n",
        "        self.y = y\n",
        "        self.z = z\n",
        "\n",
        "    def sqSum(self):\n",
        "        return self.x ** 2 + self.y ** 2 + self.z ** 2\n",
        "\n",
        "\n",
        "v = Point(1, 3, 5)\n",
        "result = v.sqSum()\n",
        "print(result) \n"
      ]
    },
    {
      "cell_type": "code",
      "source": [
        "class Calculator:\n",
        "    def __init__(self, num1, num2):\n",
        "        self.num1 = num1\n",
        "        self.num2 = num2\n",
        "\n",
        "    def add(self):\n",
        "        return self.num1 + self.num2\n",
        "\n",
        "    def subtract(self):\n",
        "        return self.num2 - self.num1\n",
        "\n",
        "    def multiply(self):\n",
        "        return self.num1 * self.num2\n",
        "\n",
        "    def divide(self):\n",
        "        return self.num2 / self.num1\n",
        "\n",
        "\n",
        "# Sample usage\n",
        "obj = Calculator(10, 94)\n",
        "print(obj.add())  # Output: 104\n",
        "print(obj.subtract())  # Output: 84\n",
        "print(obj.multiply())  # Output: 940\n",
        "print(obj.divide())  # Output: 9.4\n"
      ],
      "metadata": {
        "colab": {
          "base_uri": "https://localhost:8080/"
        },
        "id": "yJRec3E9jH2t",
        "outputId": "a371b73c-bb18-4f6e-8818-b3425b0da630"
      },
      "execution_count": 5,
      "outputs": [
        {
          "output_type": "stream",
          "name": "stdout",
          "text": [
            "104\n",
            "84\n",
            "940\n",
            "9.4\n"
          ]
        }
      ]
    },
    {
      "cell_type": "code",
      "source": [
        "class Student:\n",
        "    def __init__(self):\n",
        "        self._name = None\n",
        "        self._rollNumber = None\n",
        "\n",
        "    def setName(self, name):\n",
        "        self._name = name\n",
        "\n",
        "    def getName(self):\n",
        "        return self._name\n",
        "\n",
        "    def setRollNumber(self, rollNumber):\n",
        "        self._rollNumber = rollNumber\n",
        "\n",
        "    def getRollNumber(self):\n",
        "        return self._rollNumber\n",
        "\n",
        "\n",
        "student = Student()\n",
        "student.setName(\"John\")\n",
        "student.setRollNumber(1)\n",
        "print(student.getName())  \n",
        "print(student.getRollNumber())\n"
      ],
      "metadata": {
        "colab": {
          "base_uri": "https://localhost:8080/"
        },
        "id": "LLT8o5XekXfy",
        "outputId": "87593745-d927-4f26-e067-a38ff9f3e5ca"
      },
      "execution_count": 7,
      "outputs": [
        {
          "output_type": "stream",
          "name": "stdout",
          "text": [
            "John\n",
            "1\n"
          ]
        }
      ]
    },
    {
      "cell_type": "code",
      "source": [
        "class Account:\n",
        "    def __init__(self):\n",
        "        self.title = None\n",
        "        self.balance = 0\n",
        "\n",
        "class SavingsAccount(Account):\n",
        "    def __init__(self):\n",
        "        super().__init__()\n",
        "        self.interestRate = 0\n"
      ],
      "metadata": {
        "id": "a6FojpsilYNb"
      },
      "execution_count": 13,
      "outputs": []
    },
    {
      "cell_type": "code",
      "source": [
        "class Account:\n",
        "    def __init__(self, title, balance):\n",
        "        self.title = title\n",
        "        self.balance = balance\n",
        "\n",
        "class SavingsAccount(Account):\n",
        "    def __init__(self):\n",
        "        super().__init__(\"Ashish\", 2000)\n",
        "        self.interestRate = 0\n"
      ],
      "metadata": {
        "id": "PgO8XbYWlay6"
      },
      "execution_count": 14,
      "outputs": []
    },
    {
      "cell_type": "code",
      "source": [
        "class Account:\n",
        "    def __init__(self, title, balance):\n",
        "        self.title = title\n",
        "        self.balance = balance\n",
        "\n",
        "class SavingsAccount(Account):\n",
        "    def __init__(self, title, balance, interestRate):\n",
        "        super().__init__(title, balance)\n",
        "        self.interestRate = interestRate\n"
      ],
      "metadata": {
        "id": "NvnEamHyleKf"
      },
      "execution_count": 22,
      "outputs": []
    },
    {
      "cell_type": "code",
      "source": [],
      "metadata": {
        "id": "COq7FY_7lmBl"
      },
      "execution_count": null,
      "outputs": []
    }
  ]
}